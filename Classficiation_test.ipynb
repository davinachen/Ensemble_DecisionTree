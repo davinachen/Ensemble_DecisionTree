{
 "cells": [
  {
   "attachments": {},
   "cell_type": "markdown",
   "metadata": {},
   "source": [
    "# Testing out all helper functions in a classification test"
   ]
  },
  {
   "cell_type": "code",
   "execution_count": 2,
   "metadata": {},
   "outputs": [],
   "source": [
    "import numpy as np\n",
    "import pandas as pd"
   ]
  },
  {
   "cell_type": "code",
   "execution_count": 3,
   "metadata": {},
   "outputs": [
    {
     "data": {
      "text/html": [
       "<div>\n",
       "<style scoped>\n",
       "    .dataframe tbody tr th:only-of-type {\n",
       "        vertical-align: middle;\n",
       "    }\n",
       "\n",
       "    .dataframe tbody tr th {\n",
       "        vertical-align: top;\n",
       "    }\n",
       "\n",
       "    .dataframe thead th {\n",
       "        text-align: right;\n",
       "    }\n",
       "</style>\n",
       "<table border=\"1\" class=\"dataframe\">\n",
       "  <thead>\n",
       "    <tr style=\"text-align: right;\">\n",
       "      <th></th>\n",
       "      <th>0</th>\n",
       "      <th>1</th>\n",
       "      <th>2</th>\n",
       "      <th>3</th>\n",
       "      <th>4</th>\n",
       "      <th>5</th>\n",
       "    </tr>\n",
       "  </thead>\n",
       "  <tbody>\n",
       "    <tr>\n",
       "      <th>0</th>\n",
       "      <td>1</td>\n",
       "      <td>2</td>\n",
       "      <td>3</td>\n",
       "      <td>1</td>\n",
       "      <td>1</td>\n",
       "      <td>1</td>\n",
       "    </tr>\n",
       "    <tr>\n",
       "      <th>1</th>\n",
       "      <td>0</td>\n",
       "      <td>3</td>\n",
       "      <td>4</td>\n",
       "      <td>2</td>\n",
       "      <td>4</td>\n",
       "      <td>2</td>\n",
       "    </tr>\n",
       "    <tr>\n",
       "      <th>2</th>\n",
       "      <td>0</td>\n",
       "      <td>0</td>\n",
       "      <td>1</td>\n",
       "      <td>0</td>\n",
       "      <td>1</td>\n",
       "      <td>1</td>\n",
       "    </tr>\n",
       "  </tbody>\n",
       "</table>\n",
       "</div>"
      ],
      "text/plain": [
       "   0  1  2  3  4  5\n",
       "0  1  2  3  1  1  1\n",
       "1  0  3  4  2  4  2\n",
       "2  0  0  1  0  1  1"
      ]
     },
     "execution_count": 3,
     "metadata": {},
     "output_type": "execute_result"
    }
   ],
   "source": [
    "X = [[1,2,3,1,1,1],[0,3,4,2,4,2],[0,0,1,0,1,1]]\n",
    "X = pd.DataFrame(X)\n",
    "X"
   ]
  },
  {
   "cell_type": "code",
   "execution_count": 4,
   "metadata": {},
   "outputs": [
    {
     "data": {
      "text/html": [
       "<div>\n",
       "<style scoped>\n",
       "    .dataframe tbody tr th:only-of-type {\n",
       "        vertical-align: middle;\n",
       "    }\n",
       "\n",
       "    .dataframe tbody tr th {\n",
       "        vertical-align: top;\n",
       "    }\n",
       "\n",
       "    .dataframe thead th {\n",
       "        text-align: right;\n",
       "    }\n",
       "</style>\n",
       "<table border=\"1\" class=\"dataframe\">\n",
       "  <thead>\n",
       "    <tr style=\"text-align: right;\">\n",
       "      <th></th>\n",
       "      <th>0</th>\n",
       "    </tr>\n",
       "  </thead>\n",
       "  <tbody>\n",
       "    <tr>\n",
       "      <th>0</th>\n",
       "      <td>a</td>\n",
       "    </tr>\n",
       "    <tr>\n",
       "      <th>1</th>\n",
       "      <td>b</td>\n",
       "    </tr>\n",
       "    <tr>\n",
       "      <th>2</th>\n",
       "      <td>a</td>\n",
       "    </tr>\n",
       "  </tbody>\n",
       "</table>\n",
       "</div>"
      ],
      "text/plain": [
       "   0\n",
       "0  a\n",
       "1  b\n",
       "2  a"
      ]
     },
     "execution_count": 4,
     "metadata": {},
     "output_type": "execute_result"
    }
   ],
   "source": [
    "y = ['a','b','a']\n",
    "y = pd.DataFrame(y)\n",
    "y"
   ]
  },
  {
   "attachments": {},
   "cell_type": "markdown",
   "metadata": {},
   "source": [
    "# Functions"
   ]
  },
  {
   "cell_type": "code",
   "execution_count": 5,
   "metadata": {},
   "outputs": [
    {
     "data": {
      "text/plain": [
       "False"
      ]
     },
     "execution_count": 5,
     "metadata": {},
     "output_type": "execute_result"
    }
   ],
   "source": [
    "# 1 Check if a certain partition contains only one class?\n",
    "def check_purity(y):\n",
    "    \n",
    "    if len(np.unique(y)) == 1:\n",
    "        return True\n",
    "    else:\n",
    "        return False\n",
    "\n",
    "check_purity(y)"
   ]
  },
  {
   "cell_type": "code",
   "execution_count": 6,
   "metadata": {},
   "outputs": [
    {
     "data": {
      "text/plain": [
       "'a'"
      ]
     },
     "execution_count": 6,
     "metadata": {},
     "output_type": "execute_result"
    }
   ],
   "source": [
    "# 2 Create leaf if the branch is impure based on the task indicated\n",
    "def create_leaf(y, task):  \n",
    "    \n",
    "    # regression\n",
    "    # create the new leaf by calculating the mean of the dependent variables (continuous)\n",
    "    if task == \"regression\":\n",
    "        new_leaf = np.mean(y)\n",
    "        \n",
    "    # classfication\n",
    "    # create the new leaf that most frequently appears class in the set \n",
    "    else:\n",
    "        class_labels, class_occur = np.unique(y, return_counts=True)\n",
    "        new_leaf_idx = class_occur.argmax()\n",
    "        new_leaf = class_labels[new_leaf_idx]\n",
    "    \n",
    "    return new_leaf\n",
    "\n",
    "create_leaf(y,'classification')"
   ]
  },
  {
   "cell_type": "code",
   "execution_count": 7,
   "metadata": {},
   "outputs": [
    {
     "data": {
      "text/plain": [
       "{0: array([0, 1], dtype=int64),\n",
       " 1: array([0, 2, 3], dtype=int64),\n",
       " 2: array([1, 3, 4], dtype=int64),\n",
       " 3: array([0, 1, 2], dtype=int64),\n",
       " 4: array([1, 4], dtype=int64),\n",
       " 5: array([1, 2], dtype=int64)}"
      ]
     },
     "execution_count": 7,
     "metadata": {},
     "output_type": "execute_result"
    }
   ],
   "source": [
    "# 3 List out all possible splits\n",
    "def possible_splits(X):\n",
    "    \n",
    "    # Create an empty dictionary\n",
    "    possible_splits = {}\n",
    "\n",
    "    # turn X into nparray for later use\n",
    "    X = np.array(X)\n",
    "    # loop through every column (features) in X, collect the unique values of each column\n",
    "    for idx in range(X.shape[1]):\n",
    "        values = X[:, idx]\n",
    "\n",
    "        # adding the unique_values for each feature into the dictionary\n",
    "        possible_splits[idx] = np.unique(values)\n",
    "    \n",
    "    # returns a collection of all possible splits based on features\n",
    "    return possible_splits\n",
    "\n",
    "possible_splits(X)"
   ]
  },
  {
   "cell_type": "code",
   "execution_count": 8,
   "metadata": {},
   "outputs": [
    {
     "data": {
      "text/plain": [
       "0.4444444444444444"
      ]
     },
     "execution_count": 8,
     "metadata": {},
     "output_type": "execute_result"
    }
   ],
   "source": [
    "# 4 Determine the Best Split\n",
    "# 4.1 Calculate evaluation metrics for splits based on the task\n",
    "def calculate_metrics(y,task):\n",
    "    # Calculate Gini Impurity in classification task\n",
    "    if task == 'classification':\n",
    "        _, class_occur = np.unique(y, return_counts=True)\n",
    "\n",
    "        # Gini Impurity = 1 - Σ (pi)^2 \n",
    "        p = class_occur / class_occur.sum()\n",
    "        metrics = 1 - sum(p**2)\n",
    "\n",
    "    # Calculate MSE in regression task\n",
    "    else:\n",
    "        if len(y) == 0:\n",
    "            metrics = 0\n",
    "        else:\n",
    "            metrics = np.mean((y - np.mean(y))**2)\n",
    "\n",
    "    return metrics\n",
    "\n",
    "calculate_metrics(y,'classification')"
   ]
  },
  {
   "cell_type": "code",
   "execution_count": 9,
   "metadata": {},
   "outputs": [
    {
     "data": {
      "text/plain": [
       "0.3333333333333333"
      ]
     },
     "execution_count": 9,
     "metadata": {},
     "output_type": "execute_result"
    }
   ],
   "source": [
    "# 4.2 Calculate overall evaluation metric for the task\n",
    "def calculate_overall_metric(left, right, task):\n",
    "    \n",
    "    # calculate the probability of left leaf and right leaf seperately\n",
    "    # multiply by the value (gini impurity or MSE) calculate\n",
    "    overall_metric =  ((len(left) / (len(left) + len(right))) * calculate_metrics(left, task) \n",
    "                     + (len(right) / (len(left) + len(right))) * calculate_metrics(right, task))\n",
    "    \n",
    "    return overall_metric\n",
    "\n",
    "y1 = y[:1]\n",
    "y2 = y[1:]\n",
    "\n",
    "calculate_overall_metric(y1,y2,'classification')"
   ]
  },
  {
   "cell_type": "code",
   "execution_count": 59,
   "metadata": {},
   "outputs": [
    {
     "data": {
      "text/plain": [
       "['continuous',\n",
       " 'continuous',\n",
       " 'continuous',\n",
       " 'continuous',\n",
       " 'continuous',\n",
       " 'continuous']"
      ]
     },
     "execution_count": 59,
     "metadata": {},
     "output_type": "execute_result"
    }
   ],
   "source": [
    "# 4.3 Determine whether the feature is categorical or continuous\n",
    "def determine_type_of_feature(df):\n",
    "    \n",
    "    feature_types = []\n",
    "\n",
    "    for feature in df.columns:\n",
    "        # if the first element in the column is str then we consider it 'categorical'\n",
    "        if (isinstance(df[feature][0], str)):\n",
    "            feature_types.append(\"categorical\")\n",
    "        else:\n",
    "            feature_types.append(\"continuous\")\n",
    "    \n",
    "    return feature_types\n",
    "\n",
    "determine_type_of_feature(X)"
   ]
  },
  {
   "cell_type": "code",
   "execution_count": 58,
   "metadata": {},
   "outputs": [
    {
     "data": {
      "text/html": [
       "<div>\n",
       "<style scoped>\n",
       "    .dataframe tbody tr th:only-of-type {\n",
       "        vertical-align: middle;\n",
       "    }\n",
       "\n",
       "    .dataframe tbody tr th {\n",
       "        vertical-align: top;\n",
       "    }\n",
       "\n",
       "    .dataframe thead th {\n",
       "        text-align: right;\n",
       "    }\n",
       "</style>\n",
       "<table border=\"1\" class=\"dataframe\">\n",
       "  <thead>\n",
       "    <tr style=\"text-align: right;\">\n",
       "      <th></th>\n",
       "      <th>0</th>\n",
       "      <th>1</th>\n",
       "      <th>2</th>\n",
       "      <th>3</th>\n",
       "      <th>4</th>\n",
       "      <th>5</th>\n",
       "    </tr>\n",
       "  </thead>\n",
       "  <tbody>\n",
       "    <tr>\n",
       "      <th>0</th>\n",
       "      <td>1</td>\n",
       "      <td>2</td>\n",
       "      <td>3</td>\n",
       "      <td>1</td>\n",
       "      <td>1</td>\n",
       "      <td>1</td>\n",
       "    </tr>\n",
       "    <tr>\n",
       "      <th>2</th>\n",
       "      <td>0</td>\n",
       "      <td>0</td>\n",
       "      <td>1</td>\n",
       "      <td>0</td>\n",
       "      <td>1</td>\n",
       "      <td>1</td>\n",
       "    </tr>\n",
       "  </tbody>\n",
       "</table>\n",
       "</div>"
      ],
      "text/plain": [
       "   0  1  2  3  4  5\n",
       "0  1  2  3  1  1  1\n",
       "2  0  0  1  0  1  1"
      ]
     },
     "execution_count": 58,
     "metadata": {},
     "output_type": "execute_result"
    }
   ],
   "source": [
    "# 4.4 Split data\n",
    "def split_data(X, split_column, split_value):\n",
    "    \n",
    "    split_column_values = X[split_column]\n",
    "    type_of_feature = determine_type_of_feature(X)[split_column]\n",
    "\n",
    "    if type_of_feature == \"continuous\":\n",
    "        left = X[split_column_values <= split_value]\n",
    "        right = X[split_column_values >  split_value]\n",
    "    \n",
    "    # feature being categorical   \n",
    "    else:\n",
    "        left = X[split_column_values == split_value]\n",
    "        right = X[split_column_values != split_value]\n",
    "    \n",
    "    return left, right\n",
    "\n",
    "a, _ = split_data(X,4,1.5)\n",
    "a"
   ]
  },
  {
   "cell_type": "code",
   "execution_count": 61,
   "metadata": {},
   "outputs": [
    {
     "data": {
      "text/plain": [
       "(5, 1)"
      ]
     },
     "execution_count": 61,
     "metadata": {},
     "output_type": "execute_result"
    }
   ],
   "source": [
    "# 4.5 Determine the best split from all possible splits based on the evaluation metric according to task\n",
    "def determine_best_split(X, possible_splits, task):\n",
    "    \n",
    "    first_iter = True\n",
    "    for idx in possible_splits:\n",
    "        for value in possible_splits[idx]:\n",
    "            left, right = split_data(X, split_column=idx, split_value=value)\n",
    "            current_overall_metric = calculate_overall_metric(left, right, task)\n",
    "            \n",
    "            if first_iter or current_overall_metric <= best_overall_metric:\n",
    "                first_iter = False\n",
    "                \n",
    "                best_overall_metric = current_overall_metric\n",
    "                best_split_column = idx\n",
    "                best_split_value = value\n",
    "    \n",
    "    return best_split_column, best_split_value\n",
    "\n",
    "determine_best_split(X,possible_splits(X),'classification')"
   ]
  }
 ],
 "metadata": {
  "kernelspec": {
   "display_name": "base",
   "language": "python",
   "name": "python3"
  },
  "language_info": {
   "codemirror_mode": {
    "name": "ipython",
    "version": 3
   },
   "file_extension": ".py",
   "mimetype": "text/x-python",
   "name": "python",
   "nbconvert_exporter": "python",
   "pygments_lexer": "ipython3",
   "version": "3.9.12"
  },
  "orig_nbformat": 4
 },
 "nbformat": 4,
 "nbformat_minor": 2
}
