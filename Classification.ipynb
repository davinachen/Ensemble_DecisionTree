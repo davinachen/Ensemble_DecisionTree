{
 "cells": [
  {
   "attachments": {},
   "cell_type": "markdown",
   "metadata": {},
   "source": [
    "# Import"
   ]
  },
  {
   "cell_type": "code",
   "execution_count": 20,
   "metadata": {},
   "outputs": [],
   "source": [
    "from sklearn.preprocessing import OneHotEncoder\n",
    "from decisiontree import *"
   ]
  },
  {
   "attachments": {},
   "cell_type": "markdown",
   "metadata": {},
   "source": [
    "# Data Preprocessing"
   ]
  },
  {
   "cell_type": "code",
   "execution_count": 13,
   "metadata": {},
   "outputs": [],
   "source": [
    "## Read csvs\n",
    "train_df = pd.read_csv('data/email_classificatioin/train.csv', index_col=0)\n",
    "test_df = pd.read_csv('data/email_classificatioin/test.csv', index_col=0)"
   ]
  },
  {
   "cell_type": "code",
   "execution_count": 14,
   "metadata": {},
   "outputs": [
    {
     "name": "stderr",
     "output_type": "stream",
     "text": [
      "c:\\Anaconda\\lib\\site-packages\\sklearn\\base.py:443: UserWarning: X has feature names, but OneHotEncoder was fitted without feature names\n",
      "  warnings.warn(\n",
      "c:\\Anaconda\\lib\\site-packages\\sklearn\\base.py:443: UserWarning: X has feature names, but OneHotEncoder was fitted without feature names\n",
      "  warnings.warn(\n"
     ]
    }
   ],
   "source": [
    "## Filtering column \"mail_type\"\n",
    "train_x = train_df[['mail_type']]\n",
    "train_x = train_x.fillna(value='None')\n",
    "train_y = train_df[['label']]\n",
    "\n",
    "test_x = test_df[['mail_type']]\n",
    "test_x = test_x.fillna(value='None')\n",
    "\n",
    "## Do one hot encoding of categorical feature\n",
    "feat_enc = OneHotEncoder()\n",
    "feat_enc.fit(np.vstack([train_x, test_x]))\n",
    "train_x_featurized = feat_enc.transform(train_x)\n",
    "test_x_featurized = feat_enc.transform(test_x)"
   ]
  },
  {
   "attachments": {},
   "cell_type": "markdown",
   "metadata": {},
   "source": [
    "# Classification Task"
   ]
  },
  {
   "cell_type": "code",
   "execution_count": 22,
   "metadata": {},
   "outputs": [
    {
     "ename": "TypeError",
     "evalue": "'<' not supported between instances of 'float' and 'str'",
     "output_type": "error",
     "traceback": [
      "\u001b[1;31m---------------------------------------------------------------------------\u001b[0m",
      "\u001b[1;31mTypeError\u001b[0m                                 Traceback (most recent call last)",
      "\u001b[1;32mc:\\Users\\Davina Chen\\Desktop\\DSBA\\T2\\Ensemble\\Project\\Ensemble_DecisionTree\\Classification.ipynb Cell 7\u001b[0m in \u001b[0;36m<cell line: 1>\u001b[1;34m()\u001b[0m\n\u001b[1;32m----> <a href='vscode-notebook-cell:/c%3A/Users/Davina%20Chen/Desktop/DSBA/T2/Ensemble/Project/Ensemble_DecisionTree/Classification.ipynb#X12sZmlsZQ%3D%3D?line=0'>1</a>\u001b[0m tree \u001b[39m=\u001b[39m decision_tree_algorithm(train_df, ml_task\u001b[39m=\u001b[39;49m\u001b[39m\"\u001b[39;49m\u001b[39mclassification\u001b[39;49m\u001b[39m\"\u001b[39;49m, max_depth\u001b[39m=\u001b[39;49m\u001b[39m3\u001b[39;49m)\n",
      "File \u001b[1;32mc:\\Users\\Davina Chen\\Desktop\\DSBA\\T2\\Ensemble\\Project\\Ensemble_DecisionTree\\decisiontree.py:164\u001b[0m, in \u001b[0;36mdecision_tree_algorithm\u001b[1;34m(df, ml_task, counter, min_samples, max_depth)\u001b[0m\n\u001b[0;32m    161\u001b[0m counter \u001b[39m+\u001b[39m\u001b[39m=\u001b[39m \u001b[39m1\u001b[39m\n\u001b[0;32m    163\u001b[0m \u001b[39m# helper functions \u001b[39;00m\n\u001b[1;32m--> 164\u001b[0m potential_splits \u001b[39m=\u001b[39m get_potential_splits(data)\n\u001b[0;32m    165\u001b[0m split_column, split_value \u001b[39m=\u001b[39m determine_best_split(data, potential_splits, ml_task)\n\u001b[0;32m    166\u001b[0m data_below, data_above \u001b[39m=\u001b[39m split_data(data, split_column, split_value)\n",
      "File \u001b[1;32mc:\\Users\\Davina Chen\\Desktop\\DSBA\\T2\\Ensemble\\Project\\Ensemble_DecisionTree\\decisiontree.py:36\u001b[0m, in \u001b[0;36mget_potential_splits\u001b[1;34m(data)\u001b[0m\n\u001b[0;32m     34\u001b[0m \u001b[39mfor\u001b[39;00m column_index \u001b[39min\u001b[39;00m \u001b[39mrange\u001b[39m(n_columns \u001b[39m-\u001b[39m \u001b[39m1\u001b[39m): \u001b[39m# excluding the last column which is the label\u001b[39;00m\n\u001b[0;32m     35\u001b[0m     values \u001b[39m=\u001b[39m data[:, column_index]\n\u001b[1;32m---> 36\u001b[0m     unique_values \u001b[39m=\u001b[39m np\u001b[39m.\u001b[39;49munique(values)\n\u001b[0;32m     38\u001b[0m     potential_splits[column_index] \u001b[39m=\u001b[39m unique_values\n\u001b[0;32m     40\u001b[0m \u001b[39mreturn\u001b[39;00m potential_splits\n",
      "File \u001b[1;32m<__array_function__ internals>:5\u001b[0m, in \u001b[0;36munique\u001b[1;34m(*args, **kwargs)\u001b[0m\n",
      "File \u001b[1;32mc:\\Anaconda\\lib\\site-packages\\numpy\\lib\\arraysetops.py:272\u001b[0m, in \u001b[0;36munique\u001b[1;34m(ar, return_index, return_inverse, return_counts, axis)\u001b[0m\n\u001b[0;32m    270\u001b[0m ar \u001b[39m=\u001b[39m np\u001b[39m.\u001b[39masanyarray(ar)\n\u001b[0;32m    271\u001b[0m \u001b[39mif\u001b[39;00m axis \u001b[39mis\u001b[39;00m \u001b[39mNone\u001b[39;00m:\n\u001b[1;32m--> 272\u001b[0m     ret \u001b[39m=\u001b[39m _unique1d(ar, return_index, return_inverse, return_counts)\n\u001b[0;32m    273\u001b[0m     \u001b[39mreturn\u001b[39;00m _unpack_tuple(ret)\n\u001b[0;32m    275\u001b[0m \u001b[39m# axis was specified and not None\u001b[39;00m\n",
      "File \u001b[1;32mc:\\Anaconda\\lib\\site-packages\\numpy\\lib\\arraysetops.py:333\u001b[0m, in \u001b[0;36m_unique1d\u001b[1;34m(ar, return_index, return_inverse, return_counts)\u001b[0m\n\u001b[0;32m    331\u001b[0m     aux \u001b[39m=\u001b[39m ar[perm]\n\u001b[0;32m    332\u001b[0m \u001b[39melse\u001b[39;00m:\n\u001b[1;32m--> 333\u001b[0m     ar\u001b[39m.\u001b[39;49msort()\n\u001b[0;32m    334\u001b[0m     aux \u001b[39m=\u001b[39m ar\n\u001b[0;32m    335\u001b[0m mask \u001b[39m=\u001b[39m np\u001b[39m.\u001b[39mempty(aux\u001b[39m.\u001b[39mshape, dtype\u001b[39m=\u001b[39mnp\u001b[39m.\u001b[39mbool_)\n",
      "\u001b[1;31mTypeError\u001b[0m: '<' not supported between instances of 'float' and 'str'"
     ]
    }
   ],
   "source": [
    "tree = decision_tree_algorithm(train_df, ml_task=\"classification\", max_depth=3)"
   ]
  }
 ],
 "metadata": {
  "kernelspec": {
   "display_name": "base",
   "language": "python",
   "name": "python3"
  },
  "language_info": {
   "codemirror_mode": {
    "name": "ipython",
    "version": 3
   },
   "file_extension": ".py",
   "mimetype": "text/x-python",
   "name": "python",
   "nbconvert_exporter": "python",
   "pygments_lexer": "ipython3",
   "version": "3.9.12"
  },
  "orig_nbformat": 4
 },
 "nbformat": 4,
 "nbformat_minor": 2
}
